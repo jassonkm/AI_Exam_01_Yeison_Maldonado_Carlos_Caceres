{
 "cells": [
  {
   "cell_type": "markdown",
   "id": "hairy-poverty",
   "metadata": {},
   "source": [
    "# Group project TB 2019\n",
    "by Yeison Maldonado Martinez-Carlos Caceres Gamboa, 03 march 2021, based on Gonzalo Gomez Millan version of 22 november 2017\n",
    "\n",
    "This is the grupal project notebook for the Universidad Central del Valle for the course Artificial Intelligence.\n",
    "\n",
    "In 2000, the United Nations established eight Millennium Development Goals (MDGs): (1) eradicate extreme poverty and hunger; (2) achieve universal primary education; (3) promote gender equality and empower women; (4) reduce child mortality; (5) improve maternal health; (6) combat HIV/AIDS, malaria and other diseases; (7) ensure environmental sustainability; and (8) develop a global partnership for development. Each goal is quantified and has a deadline, to be achieved by the end of 2015. Goal 6 is to have halted and begun to reverse the spread of HIV, malaria and tuberculosis (TB). TB does not make headlines like Ebola, SARS (severe acute respiratory syndrome) and other epidemics, but it is far more deadly. For more information, see the World Health Organization (WHO) website http://www.who.int/gho/tb/en/.\n",
    "\n",
    "Taking into account the population and the number of deaths from tuberculosis without HIV intervention in some countries during one year, the following questions will be answered\n",
    "\n",
    "What is the total, maximum, minimum and average number of deaths in that year?\n",
    "Which countries have the most and fewest deaths?\n",
    "What is the mortality rate (deaths per 100,000 population) for each country?\n",
    "Which countries have the lowest and highest death rates?\n",
    "\n",
    "\n",
    "# Data\n",
    "\n",
    "\n",
    "the data consist of deaths due to tuberculosis in HIV-negative people in 2019.\n",
    "\n",
    "\n",
    "\n",
    "\n"
   ]
  },
  {
   "cell_type": "markdown",
   "id": "recent-recovery",
   "metadata": {},
   "source": []
  },
  {
   "cell_type": "code",
   "execution_count": 2,
   "id": "dressed-finding",
   "metadata": {},
   "outputs": [],
   "source": [
    "import warnings\n",
    "warnings.simplefilter('ignore', FutureWarning)\n",
    "import numpy as np \n",
    "import matplotlib.pyplot as plt\n",
    "import re\n",
    "from pandas import *\n",
    "data = read_excel('datatb.xls')\n",
    "data\n",
    "data2=data.dropna()\n",
    "data2\n",
    "del(data2['Number of deaths due to tuberculosis, excluding HIV'])\n",
    "data2.dtypes\n",
    "tbcolum= data2['Deaths due to tuberculosis among HIV-negative people (per 100 000 population)']\n",
    "\n"
   ]
  },
  {
   "cell_type": "markdown",
   "id": "casual-history",
   "metadata": {},
   "source": [
    "The scope of the problem\n",
    "The column of interest is the Deaths due to tuberculosis among HIV-negative people (per 100 000 population)"
   ]
  },
  {
   "cell_type": "code",
   "execution_count": null,
   "id": "phantom-charge",
   "metadata": {},
   "outputs": [],
   "source": [
    "tbcolum= data2['Deaths due to tuberculosis among HIV-negative people (per 100 000 population)']"
   ]
  },
  {
   "cell_type": "markdown",
   "id": "suffering-treasurer",
   "metadata": {},
   "source": [
    "The total number of people dying from tuberculosis in 2019 worldwide"
   ]
  },
  {
   "cell_type": "code",
   "execution_count": 175,
   "id": "caring-annotation",
   "metadata": {},
   "outputs": [
    {
     "name": "stdout",
     "output_type": "stream",
     "text": [
      "3223.5600000000004\n"
     ]
    }
   ],
   "source": [
    "print (np.sum(tbcolum))"
   ]
  },
  {
   "cell_type": "markdown",
   "id": "laughing-arlington",
   "metadata": {},
   "source": [
    "The country with the highest number of deaths"
   ]
  },
  {
   "cell_type": "code",
   "execution_count": 4,
   "id": "absent-modern",
   "metadata": {},
   "outputs": [
    {
     "name": "stdout",
     "output_type": "stream",
     "text": [
      "188.0\n",
      "     Country Name  Unnamed: 1  \\\n",
      "2335      Namibia        2019   \n",
      "1860       Latvia        2019   \n",
      "3399  Timor-Leste        2019   \n",
      "1180         Fiji        2019   \n",
      "2020       Malawi        2019   \n",
      "...           ...         ...   \n",
      "3050   Seychelles        2019   \n",
      "2955   San Marino        2019   \n",
      "2240     Mongolia        2019   \n",
      "2495         Niue        2019   \n",
      "900       Czechia        2019   \n",
      "\n",
      "      Deaths due to tuberculosis among HIV-negative people (per 100 000 population)  \n",
      "2335                                              188.0                              \n",
      "1860                                              123.0                              \n",
      "3399                                               88.0                              \n",
      "1180                                               85.0                              \n",
      "2020                                               84.0                              \n",
      "...                                                 ...                              \n",
      "3050                                                0.0                              \n",
      "2955                                                0.0                              \n",
      "2240                                                0.0                              \n",
      "2495                                                0.0                              \n",
      "900                                                 0.0                              \n",
      "\n",
      "[193 rows x 3 columns]\n"
     ]
    },
    {
     "name": "stderr",
     "output_type": "stream",
     "text": [
      "<ipython-input-4-4cc48a4f3e46>:2: SettingWithCopyWarning: \n",
      "A value is trying to be set on a copy of a slice from a DataFrame\n",
      "\n",
      "See the caveats in the documentation: https://pandas.pydata.org/pandas-docs/stable/user_guide/indexing.html#returning-a-view-versus-a-copy\n",
      "  data2.sort_values(by=['Deaths due to tuberculosis among HIV-negative people (per 100 000 population)'], inplace=True, ascending=False)\n"
     ]
    }
   ],
   "source": [
    "print (np.max(tbcolum))\n",
    "data2.sort_values(by=['Deaths due to tuberculosis among HIV-negative people (per 100 000 population)'], inplace=True, ascending=False)\n",
    "print (data2)"
   ]
  },
  {
   "cell_type": "markdown",
   "id": "caroline-tackle",
   "metadata": {},
   "source": [
    "The country with the lowest number of deaths"
   ]
  },
  {
   "cell_type": "code",
   "execution_count": 178,
   "id": "chinese-collective",
   "metadata": {},
   "outputs": [
    {
     "name": "stdout",
     "output_type": "stream",
     "text": [
      "0.0\n",
      "     Country Name  Unnamed: 1  \\\n",
      "2955   San Marino        2019   \n",
      "3050   Seychelles        2019   \n",
      "2495         Niue        2019   \n",
      "900       Czechia        2019   \n",
      "2240     Mongolia        2019   \n",
      "...           ...         ...   \n",
      "2020       Malawi        2019   \n",
      "1180         Fiji        2019   \n",
      "3399  Timor-Leste        2019   \n",
      "1860       Latvia        2019   \n",
      "2335      Namibia        2019   \n",
      "\n",
      "      Deaths due to tuberculosis among HIV-negative people (per 100 000 population)  \n",
      "2955                                                0.0                              \n",
      "3050                                                0.0                              \n",
      "2495                                                0.0                              \n",
      "900                                                 0.0                              \n",
      "2240                                                0.0                              \n",
      "...                                                 ...                              \n",
      "2020                                               84.0                              \n",
      "1180                                               85.0                              \n",
      "3399                                               88.0                              \n",
      "1860                                              123.0                              \n",
      "2335                                              188.0                              \n",
      "\n",
      "[193 rows x 3 columns]\n"
     ]
    },
    {
     "name": "stderr",
     "output_type": "stream",
     "text": [
      "<ipython-input-178-113b1b1b030d>:2: SettingWithCopyWarning: \n",
      "A value is trying to be set on a copy of a slice from a DataFrame\n",
      "\n",
      "See the caveats in the documentation: https://pandas.pydata.org/pandas-docs/stable/user_guide/indexing.html#returning-a-view-versus-a-copy\n",
      "  data2.sort_values(by=['Deaths due to tuberculosis among HIV-negative people (per 100 000 population)'], inplace=True)\n"
     ]
    }
   ],
   "source": [
    "print(np.min(tbcolum))\n",
    "data2.sort_values(by=['Deaths due to tuberculosis among HIV-negative people (per 100 000 population)'], inplace=True)\n",
    "print (data2)"
   ]
  },
  {
   "cell_type": "markdown",
   "id": "following-bruce",
   "metadata": {},
   "source": [
    "The average number of deaths"
   ]
  },
  {
   "cell_type": "code",
   "execution_count": 167,
   "id": "ignored-nickel",
   "metadata": {},
   "outputs": [
    {
     "name": "stdout",
     "output_type": "stream",
     "text": [
      "16.70238341968912\n"
     ]
    }
   ],
   "source": [
    "print(np.mean(tbcolum))"
   ]
  },
  {
   "cell_type": "code",
   "execution_count": null,
   "id": "physical-attack",
   "metadata": {},
   "outputs": [],
   "source": [
    "The median numer of deaths"
   ]
  },
  {
   "cell_type": "code",
   "execution_count": 168,
   "id": "recovered-fiber",
   "metadata": {},
   "outputs": [
    {
     "name": "stdout",
     "output_type": "stream",
     "text": [
      "5.1\n"
     ]
    }
   ],
   "source": [
    "print(np.median(tbcolum))"
   ]
  },
  {
   "cell_type": "markdown",
   "id": "widespread-pizza",
   "metadata": {},
   "source": [
    "#  CONCLUSIONS\n",
    "\n",
    "\n",
    "The World Health Organization's fight to eradicate tuberculosis has advanced over the years, but there are still developing countries that suffer severely from the disease, many of them in the African region.\n",
    "\n",
    "On the other hand, in developed countries this disease is totally eradicated, having zero cases of this disease."
   ]
  }
 ],
 "metadata": {
  "kernelspec": {
   "display_name": "Python 3",
   "language": "python",
   "name": "python3"
  },
  "language_info": {
   "codemirror_mode": {
    "name": "ipython",
    "version": 3
   },
   "file_extension": ".py",
   "mimetype": "text/x-python",
   "name": "python",
   "nbconvert_exporter": "python",
   "pygments_lexer": "ipython3",
   "version": "3.8.5"
  }
 },
 "nbformat": 4,
 "nbformat_minor": 5
}
